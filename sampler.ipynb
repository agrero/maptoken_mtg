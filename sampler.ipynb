{
 "cells": [
  {
   "cell_type": "code",
   "execution_count": 11,
   "metadata": {},
   "outputs": [],
   "source": [
    "# randomly sample a subset of a decklist to see the following\n",
    "# initial hand composition\n",
    "# first two draws\n"
   ]
  },
  {
   "cell_type": "code",
   "execution_count": 12,
   "metadata": {},
   "outputs": [],
   "source": [
    "# imports\n",
    "import pandas as pd\n",
    "import random\n",
    "\n",
    "import os\n",
    "\n",
    "import numpy as np"
   ]
  },
  {
   "cell_type": "code",
   "execution_count": 13,
   "metadata": {},
   "outputs": [
    {
     "data": {
      "text/html": [
       "<div>\n",
       "<style scoped>\n",
       "    .dataframe tbody tr th:only-of-type {\n",
       "        vertical-align: middle;\n",
       "    }\n",
       "\n",
       "    .dataframe tbody tr th {\n",
       "        vertical-align: top;\n",
       "    }\n",
       "\n",
       "    .dataframe thead th {\n",
       "        text-align: right;\n",
       "    }\n",
       "</style>\n",
       "<table border=\"1\" class=\"dataframe\">\n",
       "  <thead>\n",
       "    <tr style=\"text-align: right;\">\n",
       "      <th></th>\n",
       "      <th>Unnamed: 0</th>\n",
       "      <th>name</th>\n",
       "      <th>mana_cost</th>\n",
       "      <th>cmc</th>\n",
       "      <th>colors</th>\n",
       "      <th>type_line</th>\n",
       "      <th>oracle_text</th>\n",
       "      <th>produced_mana</th>\n",
       "    </tr>\n",
       "  </thead>\n",
       "  <tbody>\n",
       "    <tr>\n",
       "      <th>0</th>\n",
       "      <td>77</td>\n",
       "      <td>Shizo, Death's Storehouse</td>\n",
       "      <td>NaN</td>\n",
       "      <td>0.0</td>\n",
       "      <td>[]</td>\n",
       "      <td>Legendary Land</td>\n",
       "      <td>{T}: Add {B}.\\n{B}, {T}: Target legendary crea...</td>\n",
       "      <td>['B']</td>\n",
       "    </tr>\n",
       "    <tr>\n",
       "      <th>1</th>\n",
       "      <td>497</td>\n",
       "      <td>Diabolic Intent</td>\n",
       "      <td>{1}{B}</td>\n",
       "      <td>2.0</td>\n",
       "      <td>['B']</td>\n",
       "      <td>Sorcery</td>\n",
       "      <td>As an additional cost to cast this spell, sacr...</td>\n",
       "      <td>NaN</td>\n",
       "    </tr>\n",
       "    <tr>\n",
       "      <th>2</th>\n",
       "      <td>533</td>\n",
       "      <td>Misinformation</td>\n",
       "      <td>{B}</td>\n",
       "      <td>1.0</td>\n",
       "      <td>['B']</td>\n",
       "      <td>Instant</td>\n",
       "      <td>Put up to three target cards from an opponent'...</td>\n",
       "      <td>NaN</td>\n",
       "    </tr>\n",
       "    <tr>\n",
       "      <th>3</th>\n",
       "      <td>610</td>\n",
       "      <td>Deadly Rollick</td>\n",
       "      <td>{3}{B}</td>\n",
       "      <td>4.0</td>\n",
       "      <td>['B']</td>\n",
       "      <td>Instant</td>\n",
       "      <td>If you control a commander, you may cast this ...</td>\n",
       "      <td>NaN</td>\n",
       "    </tr>\n",
       "  </tbody>\n",
       "</table>\n",
       "</div>"
      ],
      "text/plain": [
       "   Unnamed: 0                       name mana_cost  cmc colors  \\\n",
       "0          77  Shizo, Death's Storehouse       NaN  0.0     []   \n",
       "1         497            Diabolic Intent    {1}{B}  2.0  ['B']   \n",
       "2         533             Misinformation       {B}  1.0  ['B']   \n",
       "3         610             Deadly Rollick    {3}{B}  4.0  ['B']   \n",
       "\n",
       "        type_line                                        oracle_text  \\\n",
       "0  Legendary Land  {T}: Add {B}.\\n{B}, {T}: Target legendary crea...   \n",
       "1         Sorcery  As an additional cost to cast this spell, sacr...   \n",
       "2         Instant  Put up to three target cards from an opponent'...   \n",
       "3         Instant  If you control a commander, you may cast this ...   \n",
       "\n",
       "  produced_mana  \n",
       "0         ['B']  \n",
       "1           NaN  \n",
       "2           NaN  \n",
       "3           NaN  "
      ]
     },
     "execution_count": 13,
     "metadata": {},
     "output_type": "execute_result"
    }
   ],
   "source": [
    "# read in decklist\n",
    "# WE ARE RUNNING 21 SWAMPS\n",
    "\n",
    "decklist = pd.read_csv(os.path.join('data', 'decklist.csv'))\n",
    "\n",
    "sub_ndxs = [0,1,2,3]\n",
    "\n",
    "decklist.iloc[sub_ndxs,:]"
   ]
  },
  {
   "cell_type": "code",
   "execution_count": 20,
   "metadata": {},
   "outputs": [],
   "source": [
    "# add \n",
    "\n",
    "decklist['must_keeps'] = False\n",
    "\n",
    "decklist.loc[decklist['type_line'].str.find('Land') != -1.0, 'must_keeps'] = True\n",
    "\n",
    "decklist.to_csv(os.path.join('data', 'decklist.csv'))\n",
    "\n"
   ]
  },
  {
   "cell_type": "code",
   "execution_count": null,
   "metadata": {},
   "outputs": [
    {
     "data": {
      "text/plain": [
       "77"
      ]
     },
     "execution_count": 57,
     "metadata": {},
     "output_type": "execute_result"
    }
   ],
   "source": [
    "def gen_sampling_ndxs(deck_ndxs:list[int], no_must_keeps:int, no_basics:int) -> list[int]:\n",
    "    \n",
    "    return random.sample(deck_ndxs, 99-no_must_keeps-no_basics-1)\n",
    "\n",
    "def decklist_from_ndxs(decklist:pd.DataFrame, ndxs:list[int]) -> pd.DataFrame:\n",
    "    return decklist.iloc[ndxs, :]\n",
    "\n",
    "def sample_decklist(decklist) -> list[int]:\n",
    "\n",
    "    # drop must keeps from sampling pool\n",
    "\n",
    "    ndxs = decklist[decklist['must_keeps'] == False].index.tolist()\n",
    "    \n",
    "    ndxs = gen_sampling_ndxs(\n",
    "        deck_ndxs = ndxs, \n",
    "        no_must_keeps = decklist[decklist['must_keeps'] == True].shape[0],\n",
    "        no_basics = 21 # we can solve for this \n",
    "    )\n",
    "\n",
    "    # still need to repeat the basic lands to 100\n",
    "    return sum(\n",
    "        [decklist[decklist['must_keeps'] == True].index.tolist(), ndxs] , [] \n",
    "    )\n",
    "\n",
    "\n",
    "\n",
    "    \n",
    "# need to manually input # of basic lands\n",
    "\n",
    "# subtract # of basic lands from 99 set it to some variable x\n",
    "\n",
    "# randomly sample x cards from the decklist\n",
    "\n",
    "# save index sets as a parquet from a dataframe\n",
    "\n",
    "len(sample_decklist(decklist))"
   ]
  },
  {
   "cell_type": "code",
   "execution_count": 16,
   "metadata": {},
   "outputs": [],
   "source": [
    "# maybe add in 'must keeps' and automatically add those to each "
   ]
  },
  {
   "cell_type": "code",
   "execution_count": null,
   "metadata": {},
   "outputs": [],
   "source": []
  }
 ],
 "metadata": {
  "kernelspec": {
   "display_name": "mtg-deckbuilder-cJZD6IMZ-py3.10",
   "language": "python",
   "name": "python3"
  },
  "language_info": {
   "codemirror_mode": {
    "name": "ipython",
    "version": 3
   },
   "file_extension": ".py",
   "mimetype": "text/x-python",
   "name": "python",
   "nbconvert_exporter": "python",
   "pygments_lexer": "ipython3",
   "version": "3.10.12"
  }
 },
 "nbformat": 4,
 "nbformat_minor": 2
}
